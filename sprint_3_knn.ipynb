{
 "cells": [
  {
   "cell_type": "markdown",
   "id": "89c79cb7",
   "metadata": {},
   "source": [
    "# Sprint 3"
   ]
  },
  {
   "cell_type": "markdown",
   "id": "e2aa98f0",
   "metadata": {},
   "source": [
    "1. Crear entre todo el grupo una lista de ingredientes de pizza que estén en un menú de un\n",
    "restaurante famoso de la ciudad. Todos los miembros del salón llenamos una encuesta de\n",
    "ingredientes dándole un valor a todos los ingredientes entre 1 y 10. 1= No me gusta, 10= me\n",
    "encanta.\n",
    "2. Una vez que todos llenemos la encuesta, creamos un programa de computador para calcular\n",
    "la Distancia entre un usuario y los demás. Para esto típicamente se usa la distancia Coseno,\n",
    "(realizada en el sprint anterior) que consiste en usar el vector de características (todas las\n",
    "respuestas de las características de cada usuario) para medir la distancia entre dos usuarios.\n",
    "3. Luego, seleccionamos un valor arbitrario de K vecinos (usualmente la raiz cuadrada del\n",
    "número total de usuarios) y con este valor encontramos los K vecinos más cercanos a cada\n",
    "usuario. Es decir escogemos los K usuarios que están a menor distancia del usuario\n",
    "seleccionado. Finalmente, presentamos el usuario seleccionado, sus K vecinos más cercanos y\n",
    "la distancia entre el usuario y sus vecinos cercanos.\n",
    "4. La entrega de este ejercicio es un algoritmo funcional cuyas entradas son: el nombre P de\n",
    "una persona del grupo y el valor de K. La salida es el “vecindario de usuarios” o el grupo de K\n",
    "usuarios más cercanos a la persona P de toda la base de datos, indicando el valor de distancia\n",
    "o la “fuerza del vínculo”.\n",
    "5. Reflexionar qué influencia tiene el algoritmo KNN en un sistema de recomendación en el\n",
    "contexto pospuesto de una pizzería. Identificar por lo menos un contexto nuevo en el cual este\n",
    "algoritmo pueda ser utilizado provechosamente para realizar decisiones para grupos. Para esta\n",
    "reflexión debemos pensar que P, dependiendo de la base de datos, no necesariamente es una\n",
    "persona, también puede ser un producto o un servicio.\n"
   ]
  },
  {
   "cell_type": "code",
   "execution_count": 3,
   "id": "4191e090",
   "metadata": {},
   "outputs": [
    {
     "name": "stdout",
     "output_type": "stream",
     "text": [
      "Escoge el número de vecinos que quieres ver:4\n",
      "Escoge la persona que quieres revisar:Alejandro S\n",
      "\n",
      "Nearest Neighbors for Alejandro S:\n",
      "- Jhohanson: 0.968\n",
      "- Alejandro R: 0.940\n",
      "- Santiago GM: 0.926\n",
      "- Isaac Montaño: 0.918\n"
     ]
    }
   ],
   "source": [
    "import pandas as pd\n",
    "import numpy as np\n",
    "\n",
    "def calculate_similarity(user_1, user_2, df):\n",
    "\n",
    "  vector_user_1 = df[user_1]\n",
    "  vector_user_2 = df[user_2]\n",
    "\n",
    "  vector_user_1_norm = (vector_user_1 - vector_user_1.min()) / (vector_user_1.max() - vector_user_1.min())\n",
    "  vector_user_2_norm = (vector_user_2 - vector_user_2.min()) / (vector_user_2.max() - vector_user_2.min())\n",
    "\n",
    "  similarity = np.dot(vector_user_1_norm, vector_user_2_norm) / \\\n",
    "                (np.linalg.norm(vector_user_1_norm) * np.linalg.norm(vector_user_2_norm))\n",
    "  return similarity\n",
    "\n",
    "\n",
    "def find_nearest_neighbors(df, k, user_name):\n",
    "\n",
    "  similarities = []\n",
    "  for user in df.columns[1:]:\n",
    "    if user != user_name:\n",
    "      similarity = calculate_similarity(user_name, user, df)\n",
    "      similarities.append((user, similarity))\n",
    "\n",
    "  similarities.sort(key=lambda x: x[1], reverse=True)\n",
    "\n",
    "  return similarities[:k]\n",
    "\n",
    "\n",
    "df = pd.read_csv(\"sprint_3_pizza.csv\")\n",
    "kInput = input(\"Escoge el número de vecinos que quieres ver:\") \n",
    "k = int(kInput)\n",
    "user_name = input(\"Escoge la persona que quieres revisar:\")\n",
    "\n",
    "nearest_neighbors = find_nearest_neighbors(df, k, user_name)\n",
    "\n",
    "print(f\"\\nNearest Neighbors for {user_name}:\")\n",
    "for neighbor, distance in nearest_neighbors:\n",
    "  print(f\"- {neighbor}: {distance:.3f}\")"
   ]
  },
  {
   "cell_type": "code",
   "execution_count": null,
   "id": "9b42b969",
   "metadata": {},
   "outputs": [],
   "source": []
  },
  {
   "cell_type": "code",
   "execution_count": null,
   "id": "7f339776",
   "metadata": {},
   "outputs": [],
   "source": []
  },
  {
   "cell_type": "code",
   "execution_count": null,
   "id": "b3bf9cba",
   "metadata": {},
   "outputs": [],
   "source": []
  }
 ],
 "metadata": {
  "kernelspec": {
   "display_name": "Python 3 (ipykernel)",
   "language": "python",
   "name": "python3"
  },
  "language_info": {
   "codemirror_mode": {
    "name": "ipython",
    "version": 3
   },
   "file_extension": ".py",
   "mimetype": "text/x-python",
   "name": "python",
   "nbconvert_exporter": "python",
   "pygments_lexer": "ipython3",
   "version": "3.11.5"
  }
 },
 "nbformat": 4,
 "nbformat_minor": 5
}
